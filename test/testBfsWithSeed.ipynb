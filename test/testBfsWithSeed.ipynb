{
 "cells": [
  {
   "cell_type": "code",
   "execution_count": null,
   "metadata": {},
   "outputs": [],
   "source": [
    "from bs4 import BeautifulSoup\n",
    "from selenium import webdriver\n",
    "from selenium.webdriver.common.by import By\n",
    "from selenium.webdriver.support.ui import WebDriverWait\n",
    "from selenium.webdriver.support import expected_conditions as EC"
   ]
  },
  {
   "cell_type": "code",
   "execution_count": null,
   "metadata": {},
   "outputs": [],
   "source": [
    "def getPageUrl():\n",
    "    options = webdriver.ChromeOptions()\n",
    "    with webdriver.Chrome(options) as driver:\n",
    "        wait = WebDriverWait(driver, timeout=2)\n",
    "        driver.get(f\"https://kyowon.career.greetinghr.com/process\")\n",
    "        links = wait.until(EC.presence_of_all_elements_located((By.TAG_NAME, \"a\")))\n",
    "        urls = [\n",
    "            link.get_attribute(\"href\")\n",
    "            for link in links\n",
    "            if link.get_attribute(\"href\") is not None\n",
    "        ]\n",
    "        for url in urls:\n",
    "            print(url)"
   ]
  },
  {
   "cell_type": "code",
   "execution_count": 21,
   "metadata": {},
   "outputs": [
    {
     "name": "stdout",
     "output_type": "stream",
     "text": [
      "교원그룹 채용\n",
      "\n",
      "교원그룹 둘러보기People&CultureJobs공고 바로가기Process채용 안내교원그룹 채용 프로세스를 단계별로 안내드립니다. 01.   서류검토대졸공채(신입), 수시채용(신입/경력)을 원칙으로 하며 상시로 채용공고 게시판에 게시되므로 확인부탁드립니다.세부사항(채용대상 및 자격기준 등)은 모집공고 상의 내용을 참고하시기 바랍니다. 02.  인성검사인성검사 : 온라인 인성검사 진행하여 조직적합성에 대해 검증합니다. 03.  인터뷰 진행인터뷰는 직무적합성, 조직적합성, 리더십 등을 확인하며 지원자님과 회사가 서로 알아가는 시간을 갖는 자리입니다. 사업조직, 직무에 따라 전형이 달라질 수 있으며 자세한 내용은 채용담당자가 별도로 안내드립니다. 04   처우협의/         채용검진경력직 지원자의 경우 처우협의가 진행되며, 처우협의 또한 채용프로세스 中 하나의 전형으로 간주합니다. 처우협의를 위해 최종학력증명서, 경력증명서, 연봉증빙자료 등을 요청드리며 이력서와 상이할 경우 채용전형이 종료될 수 있습니다. 당사 지정병원에서 검사가 진행되며, 전문의 소견을 바탕으로 채용 가능여부를 검토하고 있습니다.(※ 근무가능 소견 시, 최종 채용 확정)05   입사일 확정처우협의, 채용검진까지 마무리 후 입사일을 조율하여 확정합니다.입사일 확정 후 전자(온라인)계약을 통해 입사구비서류를 제출하여 입사 전 준비를 마칩니다. *서류 전형 결과 발표 : 서류 접수 마감 후 2주 내 결과 안내 예정 (전형 별 합격자에 대한 개별 통보)*최종 면접 후 포지션에 따라 평판조회가 있을 수 있습니다.*진행 중인 공고와 중복지원은 불가합니다.FAQ자주 묻는 질문지원자님들이 자주 묻는 질문과 답변을 정리했습니다. 하단에 없는 문의사항은 별도로 문의 바랍니다. 응시자격Q 채용전형별 응시 자격은 어떻게 되나요?A 교원그룹의 응시자격은 대졸공채 / 수시채용(신입, 경력) / 상시채용 (인재DB등록) 구분되며, 채용 예정 직무의 특성에 따라 자격 및 대상이 달라집니다.따라서 채용 공고를 면밀히 확인하신 후, 지원 부탁드립니다.Q 과거에 지원을 한 이력이 있는데, 재지원이 가능한가요?A 재지원에 대한 불이익은 없습니다. 채용 자격요건에 부합할 시, 누구에게나 응시의 기회는 열려있습니다.Q 모집 요강 중 학력란에 있는 학력 제한은 꼭 지켜야 하나요?A 회사의 채용방침상 학력을 벗어난 지원은 지원자에게 이익이 되지는 않습니다. 가능하다면 모집요강에 게재된 학력에 맞게 지원해주시기 바랍니다.Q 채용 직무나 공고 상에서 나이와 성별의 제한이 있나요?A 교원그룹은 전형 상 어떠한 채용에 대해서도 나이와 성별의 제한을 두고 있지 않습니다.Q 경력자 또는 석사이상의 학력소지자도 대졸 공채에 지원가능한가요?A1. 그룹 대졸공채는 신입사원을 선발하기 위한 목적으로 실시되고 있습니다.경력이 있으신 분들도 지원 자체는 가능하시지만, 추가적인 경력 인정은 고려되지 않으므로 참고바랍니다.2. 대졸 공채는 편의 상 \"대졸\"이라고 표현하고 있는 것으로 졸업예정자 또는 기졸업상태의 석/박사분들도 지원가능합니다.채용절차Q 채용 절차에 대해 구체적으로 알고 싶습니다.A 그룹에서는 지원자 분들을 다각면에서 검토하기 위해 다양한 채용 전형을 운영하고 있습니다.표준 채용프로세스는 상단의 내용을 참고 부탁드리며, 자세한 내용은 전형 시작 시 채용팀에서 상세히 안내드리겠습니다. 제출서류Q 채용에 필요한 관련 서류는 언제 제출하나요?A 채용에 필요한 서류 (졸업/어학/자격증 관련 등)는 일반적으로 기본적으로 최종 합격 시, 제출을 요청드리고 있으나 필요에 따라 사전 확인이 필요한 경우도있습니다. 채용 담당자가 정확히 확인할 수 있게 꼼꼼히 구비 부탁드립니다.기타Q 채용 전형별 합격/불합격 여부는 어떻게 확인하나요?A 각 전형 단계별로 합격자/불합격자 모든 분들께 전형 결과를 안내해드리고 있습니다.'합격자 조회' 페이지 또는 지원서에 기재하신 이메일과 휴대폰 문자를 통해 안내를 받으실 수 있습니다.Q 직무별 필수 자격증이 있을지요?A 직무별 필수 자격증이 요구되는 특수 직무의 경우, 공고에 기재가 됩니다.그 외에는 필수 자격증은 없다고 생각해주시면 되나 직무 수행에 도움이 되는 자격증은 서류 심사시, 참고하고 있습니다.Q 공인 어학성적 어느 정도 중요한가요?A '영어', '중국어' 등 과목의 편집개발 직무와 해외사업 부서 지원 시, 중요도가 높은 편이나 기타 스탭 및 영업 관련 직무 중요도가 높은 편이 아닙니다.Q 국가보훈대상/장애인은 서류전형 시, 우대하고 있나요?A 국가보훈대상자 및 장애인은 관계법령에 의거 우대하고 있습니다.Q 수습기간이 있나요?A 신입사원으로 입사하시는 경우, 3개월 간 수습제도를 운영하고 있습니다.교원그룹서울특별시 중구 을지로 51  |  사업자등록번호 496-89-02009\n",
      "hr.recruit@kyowon.co.kr개인정보 처리방침서비스 이용약관made with GreetingTOP\n",
      "https://kyowon.career.greetinghr.com/\n",
      "http://kyowon.co.kr/Home/\n",
      "https://kyowon.career.greetinghr.com/interview\n",
      "https://kyowon.career.greetinghr.com/process\n",
      "https://kyowon.career.greetinghr.com/recruit\n",
      "http://drive.google.com/file/d/1QsLUKcHIkF2UKSvh5yhmcze2F9tStlgp/view?usp=drive_link\n",
      "\n",
      "\n",
      "\n",
      "\n",
      "https://www.greetinghr.com/?utm_source=career_page&utm_medium=8424\n"
     ]
    }
   ],
   "source": [
    "getPageUrl()"
   ]
  }
 ],
 "metadata": {
  "kernelspec": {
   "display_name": "crwoller",
   "language": "python",
   "name": "python3"
  },
  "language_info": {
   "codemirror_mode": {
    "name": "ipython",
    "version": 3
   },
   "file_extension": ".py",
   "mimetype": "text/x-python",
   "name": "python",
   "nbconvert_exporter": "python",
   "pygments_lexer": "ipython3",
   "version": "3.12.0"
  }
 },
 "nbformat": 4,
 "nbformat_minor": 2
}
