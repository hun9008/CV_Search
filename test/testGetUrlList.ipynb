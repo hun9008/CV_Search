{
 "cells": [
  {
   "cell_type": "code",
   "execution_count": null,
   "metadata": {},
   "outputs": [],
   "source": [
    "from selenium import webdriver\n",
    "from selenium.webdriver.common.by import By\n",
    "from selenium.webdriver.support.ui import WebDriverWait\n",
    "from selenium.webdriver.support import expected_conditions as EC"
   ]
  },
  {
   "cell_type": "code",
   "execution_count": null,
   "metadata": {},
   "outputs": [],
   "source": [
    "def getUrlList():\n",
    "    options = webdriver.ChromeOptions()\n",
    "    with webdriver.Chrome(options) as driver:\n",
    "        wait = WebDriverWait(driver, timeout=2)\n",
    "        for i in range(1, 30):\n",
    "            driver.get(\n",
    "                f\"https://www.jobkorea.co.kr/recruit/joblist?menucode=cotype1&cotype=1,2,3#anchorGICnt_{i}\"\n",
    "            )\n",
    "            original_window = driver.current_window_handle\n",
    "            button_list = driver.find_elements(\n",
    "                By.XPATH,\n",
    "                \"//button[contains(@class, 'tplBtn tplBtn_1 tplBtnBlue devApplyEtc')]\",\n",
    "            )\n",
    "            for button in button_list:\n",
    "                button.click()\n",
    "                wait.until(EC.number_of_windows_to_be(2))\n",
    "                for window_handle in driver.window_handles:\n",
    "                    if window_handle != original_window:\n",
    "                        driver.switch_to.window(window_handle)\n",
    "                        break\n",
    "                wait.until(lambda d: d.current_url != \"about:blank\")\n",
    "                print(driver.current_url)\n",
    "                yield driver.current_url\n",
    "                driver.close()\n",
    "                driver.switch_to.window(original_window)"
   ]
  },
  {
   "cell_type": "code",
   "execution_count": null,
   "metadata": {},
   "outputs": [],
   "source": [
    "import json\n",
    "\n",
    "url_list = []\n",
    "url_index = 0\n",
    "for url in getUrlList():\n",
    "    url_list.append({\"index\": url_index, \"url\": url})\n",
    "    url_index += 1\n",
    "    # Save the URL list to a JSON file\n",
    "    with open(\"url_list.json\", \"w\", encoding=\"utf-8\") as file:\n",
    "        json.dump(url_list, file, ensure_ascii=False, indent=4)"
   ]
  }
 ],
 "metadata": {
  "kernelspec": {
   "display_name": "crwoller",
   "language": "python",
   "name": "python3"
  },
  "language_info": {
   "name": "python",
   "version": "3.12.0"
  }
 },
 "nbformat": 4,
 "nbformat_minor": 2
}
