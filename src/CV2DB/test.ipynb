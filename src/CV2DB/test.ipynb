{
 "cells": [
  {
   "cell_type": "code",
   "execution_count": 2,
   "metadata": {},
   "outputs": [],
   "source": [
    "from selenium import webdriver\n",
    "from selenium.webdriver.common.by import By\n",
    "import pandas as pd"
   ]
  },
  {
   "cell_type": "markdown",
   "metadata": {},
   "source": [
    "# 잡코리아 "
   ]
  },
  {
   "cell_type": "code",
   "execution_count": 116,
   "metadata": {},
   "outputs": [],
   "source": [
    "driver = webdriver.Chrome()\n",
    "driver.get(\"https://www.jobkorea.co.kr/text/\")\n",
    "html = driver.page_source"
   ]
  },
  {
   "cell_type": "code",
   "execution_count": 117,
   "metadata": {},
   "outputs": [],
   "source": [
    "soup = BeautifulSoup(html,'html.parser' )\n",
    "el = soup.select_one(\".list.list_firstvvip\")\n",
    "data_list = el.findAll('li')\n",
    "results = {\n",
    "  \"날짜\" :[],\n",
    "  \"공고설명\" :[]\n",
    "}\n",
    "for d in data_list:\n",
    "    if d.select_one(\".description\"):\n",
    "      text = d.select_one(\".description\").getText()\n",
    "      results['공고설명'].append(text)\n",
    "\n",
    "    if d.select_one(\".dday\"):\n",
    "      text = d.select_one(\".dday\").getText()\n",
    "      results['날짜'].append(text)\n",
    "\n"
   ]
  },
  {
   "cell_type": "markdown",
   "metadata": {},
   "source": [
    "# 토스"
   ]
  },
  {
   "cell_type": "code",
   "execution_count": null,
   "metadata": {},
   "outputs": [],
   "source": [
    "from selenium import webdriver\n",
    "from selenium.webdriver.support.ui import WebDriverWait\n",
    "from selenium.webdriver.support import expected_conditions as EC\n",
    "import time\n",
    "\n"
   ]
  },
  {
   "cell_type": "code",
   "execution_count": 1,
   "metadata": {},
   "outputs": [],
   "source": [
    "web_dic = {\n",
    "    \"토스증권시스템\": \"https://toss.im/career/job-detail?job_id=4559879003&company=%ED%86%A0%EC%8A%A4%EC%A6%9D%EA%B6%8C&detailedPosition=5%EB%85%84%20%EC%9D%B4%EC%83%81\",\n",
    "    \"토스뱅크시스템\": \"https://toss.im/career/job-detail?job_id=4559879003&company=%ED%86%A0%EC%8A%A4%EB%B1%85%ED%81%AC&detailedPosition=%EA%B3%B5%ED%86%B5\",\n",
    "    \"토스프론트엔드\": \"https://toss.im/career/job-detail?job_id=4397469003\",\n",
    "    \"토스데이터분석\": \"https://toss.im/career/job-detail?job_id=4071102003&company=%ED%86%A0%EC%8A%A4&detailedPosition=%EA%B3%B5%ED%86%B5\",\n",
    "    \"토스안드로이드\": \"https://toss.im/career/job-detail?job_id=4071133003&company=%ED%86%A0%EC%8A%A4\",\n",
    "    \"토스데브옵스\": \"https://toss.im/career/job-detail?job_id=4071151003&company=%ED%86%A0%EC%8A%A4\",\n",
    "    \"토스증권데브옵스\": \"https://toss.im/career/job-detail?job_id=4071151003&company=%ED%86%A0%EC%8A%A4%EC%A6%9D%EA%B6%8C\",\n",
    "    \"토스뱅크데브옵스\": \"https://toss.im/career/job-detail?job_id=4071151003&company=%ED%86%A0%EC%8A%A4%EB%B1%85%ED%81%AC\",\n",
    "    \"토스페이먼츠\": \"https://toss.im/career/job-detail?job_id=4071151003&company=%ED%86%A0%EC%8A%A4%ED%8E%98%EC%9D%B4%EB%A8%BC%EC%B8%A0&detailedPosition=%EA%B3%B5%ED%86%B5\",\n",
    "    \"토스뱅크풀스택\": \"https://toss.im/career/job-detail?job_id=5778130003&company=%ED%86%A0%EC%8A%A4%EB%B1%85%ED%81%AC&detailedPosition=Admin\",\n",
    "}\n",
    "\n",
    "web_dic2 = {\n",
    "    \"naver_0\": \"https://recruit.navercorp.com/rcrt/view.do?annoId=30002937&sw=&subJobCdArr=&sysCompanyCdArr=&empTypeCdArr=&entTypeCdArr=&workAreaCdArr=\",\n",
    "    \"naver_1\": \"https://recruit.navercorp.com/rcrt/view.do?annoId=30002931&sw=&subJobCdArr=&sysCompanyCdArr=&empTypeCdArr=&entTypeCdArr=&workAreaCdArr=\",\n",
    "    \"naver_2\": \"https://recruit.navercorp.com/rcrt/view.do?annoId=30002921&sw=&subJobCdArr=&sysCompanyCdArr=&empTypeCdArr=&entTypeCdArr=&workAreaCdArr=\",\n",
    "    \"naver_3\": \"https://recruit.navercorp.com/rcrt/view.do?annoId=30002914&sw=&subJobCdArr=&sysCompanyCdArr=&empTypeCdArr=&entTypeCdArr=&workAreaCdArr=\",\n",
    "    \"naver_4\": \"https://recruit.navercorp.com/rcrt/view.do?annoId=30002911&sw=&subJobCdArr=&sysCompanyCdArr=&empTypeCdArr=&entTypeCdArr=&workAreaCdArr=\",\n",
    "    \"naver_5\": \"https://recruit.navercorp.com/rcrt/view.do?annoId=30002924&sw=&subJobCdArr=&sysCompanyCdArr=&empTypeCdArr=&entTypeCdArr=&workAreaCdArr=\",\n",
    "    \"naver_6\": \"https://recruit.navercorp.com/rcrt/view.do?annoId=30002895&sw=&subJobCdArr=&sysCompanyCdArr=&empTypeCdArr=&entTypeCdArr=&workAreaCdArr=\",\n",
    "    \"naver_7\": \"https://recruit.navercorp.com/rcrt/view.do?annoId=30002873&sw=&subJobCdArr=&sysCompanyCdArr=&empTypeCdArr=&entTypeCdArr=&workAreaCdArr=\",\n",
    "    \"naver_8\": \"https://recruit.navercorp.com/rcrt/view.do?annoId=30002876&sw=&subJobCdArr=&sysCompanyCdArr=&empTypeCdArr=&entTypeCdArr=&workAreaCdArr=\",\n",
    "    \"naver_9\": \"https://recruit.navercorp.com/rcrt/view.do?annoId=30002901&sw=&subJobCdArr=&sysCompanyCdArr=&empTypeCdArr=&entTypeCdArr=&workAreaCdArr=\",\n",
    "}"
   ]
  },
  {
   "cell_type": "markdown",
   "metadata": {},
   "source": [
    "# 크롤링"
   ]
  },
  {
   "cell_type": "code",
   "execution_count": null,
   "metadata": {},
   "outputs": [],
   "source": [
    "driver = webdriver.Firefox()\n",
    "\n",
    "for key, value in web_dic2.items():\n",
    "    driver.get(value)\n",
    "    # Wait until the element with the specific CSS selector is present\n",
    "    WebDriverWait(driver, 2)\n",
    "    time.sleep(2)\n",
    "    # Get the page source after the element is present\n",
    "    html = driver.page_source\n",
    "    # Save the HTML content to a file\n",
    "    file_path = f\"CV_Search/data/toss/{key}.html\"\n",
    "    with open(file_path, \"w\", encoding=\"utf-8\") as file:\n",
    "        file.write(html)"
   ]
  },
  {
   "cell_type": "markdown",
   "metadata": {},
   "source": [
    "# html to kr"
   ]
  },
  {
   "cell_type": "code",
   "execution_count": 45,
   "metadata": {},
   "outputs": [],
   "source": [
    "from bs4 import BeautifulSoup\n",
    "\n",
    "\n",
    "def extract_korean_lines(html_content):\n",
    "    soup = BeautifulSoup(html_content, \"html.parser\")\n",
    "    korean_lines = []\n",
    "\n",
    "    data = soup.get_text().split(\"\\n\")\n",
    "\n",
    "    for idx, line in enumerate(data):\n",
    "        if any(\"\\uac00\" <= char <= \"\\ud7a3\" for char in line):\n",
    "            korean_lines.append(data[idx])\n",
    "\n",
    "    return korean_lines\n",
    "\n",
    "for key, value in web_dic2.items():\n",
    "    with open(f\"CV_Search/data/toss/{key}.html\", \"r\", encoding=\"utf-8\") as file:\n",
    "        html_content = file.read()\n",
    "\n",
    "    korean_lines = extract_korean_lines(html)\n",
    "\n",
    "    with open(f\"CV_Search/data/toss/{key}.txt\", \"w\", encoding=\"utf-8\") as file:\n",
    "        for line in korean_lines:\n",
    "            file.write(line + \"\\n\")\n",
    "\n"
   ]
  },
  {
   "cell_type": "code",
   "execution_count": 2,
   "metadata": {},
   "outputs": [
    {
     "name": "stdout",
     "output_type": "stream",
     "text": [
      "<think>\n",
      "Alright, I need to help this user with their job application for Toss Bank. They've provided a lot of information in both Korean and English, so first, I should figure out what they're asking for.\n",
      "\n",
      "They mentioned \".CV& cover letter\", which means they want me to create a cover letter and a CV based on their detailed experience. Looking at their history, it seems like they have several projects related to finance, AI, and customer support.\n",
      "\n",
      "I notice they listed specific skills like financial product development, AI application in fraud detection, and customer support systems. These should be highlighted in the CV. \n",
      "\n",
      "For the cover letter, I need to connect their experience with what Toss Bank is looking for—innovation, problem-solving, and a commitment to financial security. They probably want to show how their past work aligns with Toss's goals.\n",
      "\n",
      "They also included a lot of projects, like developing anti-fraud solutions using AI, creating a modern FEP system, and automating processes in CRM. These should be bullet points in the CV under relevant sections like AI & Machine Learning, Financial Innovations, etc.\n",
      "\n",
      "I should ensure both documents emphasize their technical skills, creative problem-solving, and experience with customer support and data security. Also, tailoring each document to show how they can contribute to Toss Bank specifically is important.\n",
      "\n",
      "I'll structure the CV with sections like Professional Summary, Education, Work Experience, Skills, Projects, Certifications, etc. The cover letter will have an introduction, body connecting their background to Toss, and a conclusion expressing enthusiasm for the role.\n",
      "\n",
      "Finally, I'll make sure everything is clear, professional, and tailored to highlight their strengths relevant to Toss Bank's needs.\n",
      "</think>\n",
      "\n",
      "이 분들은 Toss Bank에 진职REQ를 제출하고 있습니다. 이 분의 경력과 Interest Base는 Toss Bank의 기존 Products, System Design, Customer Support, AI & Machine Learning에 기반을 주어 있습니다. 따라서, Cover Letter와 Curriculum Vitae (CV)를 작성할 때 이 분의 경력과 Interest Base를 반영하여 Toss Bank에 도합할 수 있도록 최선을 다합니다.\n",
      "\n",
      "---\n",
      "\n",
      "### **[이름] Cover Letter**\n",
      "\n",
      "**[이메일]**  \n",
      "**[税率]**  \n",
      "\n",
      "**Toss Bank**  \n",
      "[사무 put address]  \n",
      "**[일付]**  \n",
      "\n",
      "尊敬的Toss Bankruitment Team,  \n",
      "\n",
      "I am writing to express my enthusiasm for the [Position] role at Toss Bank. With a strong background in financial product development, AI application in fraud detection, and customer support system design, I am confident that I can contribute to Toss Bank's mission of revolutionizing banking through innovation and technology.  \n",
      "\n",
      "In my previous roles as a Financial Product Developer at [ Previous Company ], I have developed and implemented innovative financial solutions such as an AI-powered anti-fraud detection system for credit card transactions and a modern foreign exchange payment (FEP) system that integrates seamlessly with international payment networks. These experiences allowed me to leverage my expertise in machine learning algorithms, real-time data analysis, and robust system design to solve complex financial problems.  \n",
      "\n",
      "At [ Current Company ], I have further honed my skills by working on projects such as automating customer support processes using natural language processing (NLP) technologies and enhancing the security of digital banking platforms through advanced encryption methods. These experiences have strengthened my ability to translate abstract ideas into practical, scalable solutions that improve user experience and operational efficiency.  \n",
      "\n",
      "I am particularly drawn to Toss Bank's commitment to revolutionizing the financial industry with cutting-edge technology. I believe that my background in AI-driven fraud detection, modern system architecture design, and customer-centric digital banking solutions aligns perfectly with your vision of creating innovative financial tools for everyday users.  \n",
      "\n",
      "In addition to my technical expertise, I am passionate about fostering innovation within teams and building scalable, user-friendly systems. I am confident that I can contribute to Toss Bank's mission by combining my technical skills with a customer-first mindset.  \n",
      "\n",
      "Thank you for considering my application. I would be honored to join Toss Bank as part of your team and contribute to the exciting work being done at the intersection of technology and finance. I look forward to the opportunity to discuss how my skills and experiences align with the needs of Toss Bank.  \n",
      "\n",
      "Sincerely,  \n",
      "[이름]  \n",
      "\n",
      "---\n",
      "\n",
      "### **Curriculum Vitae (CV)**\n",
      "\n",
      "**이름**  \n",
      "[税率]  \n",
      "[홈페이지 URL] (선택)  \n",
      "\n",
      "#### **Professional Summary**  \n",
      "A passionate professional with expertise in financial product development, AI-driven fraud detection, and customer support system design. Skilled in translating abstract ideas into practical solutions using advanced technologies such as machine learning, natural language processing, and distributed ledger technology.\n",
      "\n",
      "---\n",
      "\n",
      "#### **Education**  \n",
      "**[학교명]**, [ Tanner, Province, Country ]  \n",
      "[🎓] - [졸업년도]  \n",
      "\n",
      "- [학과/ 학位]  \n",
      "  [Grades or Coursework]  \n",
      "- [Other Education or Certifications] (e.g., AI Engineer certification, AWS Training)  \n",
      "\n",
      "---\n",
      "\n",
      "#### **Work Experience**  \n",
      "\n",
      "**[Current Company Name]**, [Twner Town, Province, Country ]  \n",
      "[Role] – [Duration]  \n",
      "- Developed and implemented an AI-powered anti-fraud detection system for credit card transactions.  \n",
      "- Designed a modern foreign exchange payment (FEP) system that integrates seamlessly with international payment networks.  \n",
      "- Collaborated with cross-functional teams to improve operational efficiency and reduce manual processes.  \n",
      "\n",
      "**[Previous Company Name]**, [Twner Town, Province, Country ]  \n",
      "[Role] – [Duration]  \n",
      "- Worked on projects related to financial product development, including customer support system automation using NLP technologies.  \n",
      "- Conducted real-time data analysis and implemented machine learning algorithms for predictive analytics in banking applications.  \n",
      "\n",
      "---\n",
      "\n",
      "#### **Skills**  \n",
      "- **Technical Skills:** AI/ML, Natural Language Processing (NLP), Blockchain, Web Development, Cloud Computing (AWS/GCP), Python/R&D\n",
      "- **Languages:** Korean (Native), English (Fluent)  \n",
      "- **Other Skills:** Problem-Solving, Team Collaboration, Customer Support, Data Analysis  \n",
      "\n",
      "---\n",
      "\n",
      "#### **Projects**  \n",
      "\n",
      "**AI & Machine Learning**  \n",
      "- developed an AI-powered fraud detection system for credit card transactions.  \n",
      "- implemented machine learning algorithms to predict fraudulent patterns in real-time banking applications.  \n",
      "\n",
      "**Financial Innovations**  \n",
      "- designed a modern foreign exchange payment (FEP) system that integrates seamlessly with international payment networks.  \n",
      "- created a digital banking platform with advanced security features, including encryption methods for online transactions.  \n",
      "\n",
      "**Customer Support Systems**  \n",
      "- automated customer support processes using NLP technologies to improve user experience and reduce manual intervention.  \n",
      "- developed a chatbot system integrated into the digital banking platform to provide real-time assistance to users.  \n",
      "\n",
      "---\n",
      "\n",
      "#### **Certifications**  \n",
      "- [AI Engineer Certification] – [Issuing Institution], [Year]  \n",
      "- [Blockchain Development Certificate] – [Issuing Institution], [Year]  \n",
      "- [Python for Data Science Training] – [Issuing Institution], [Year]  \n",
      "\n",
      "---\n",
      "\n",
      "#### **References**  \n",
      "Available upon request.  \n",
      "\n",
      "---\n",
      "\n",
      "This CV and Cover Letter emphasize your technical expertise, problem-solving skills, and alignment with Toss Bank's mission to revolutionize the financial industry using innovative technology. Please feel free to reach out for any further clarification or assistance!\n"
     ]
    }
   ],
   "source": [
    "import ollama\n",
    "\n",
    "path = \"../../data/toss/\"\n",
    "key, _ = list(web_dic.items())[0]\n",
    "file_path = f\"{path}{key}.txt\"\n",
    "with open(file_path, \"r\", encoding=\"utf-8\") as file:\n",
    "    file_content = file.read()\n",
    "\n",
    "response = ollama.chat(\n",
    "    model=\"deepseek-r1\",\n",
    "    messages=[\n",
    "        {\n",
    "            \"role\": \"user\",\n",
    "            \"content\": \"\"\"밑에 있는 데이터 읽고 다음의 테이블에 채우고 마크다운형식의 테이블로 바꿔서 넣어줘\n",
    "                        모집 부서 :\n",
    "                        모집 경력 :\n",
    "                        업무 내용 :\n",
    "                        근로 조건 :\n",
    "                        공고 기간 :\n",
    "                        지원 조건 :\n",
    "                        우대 사항 :\n",
    "                        인재상\n",
    "                        \"\"\"\n",
    "            + file_content,\n",
    "        },\n",
    "    ],\n",
    ")\n",
    "print(response['message']['content'])"
   ]
  },
  {
   "cell_type": "code",
   "execution_count": 21,
   "metadata": {},
   "outputs": [
    {
     "data": {
      "text/plain": [
       "'토스증권시스템'"
      ]
     },
     "execution_count": 21,
     "metadata": {},
     "output_type": "execute_result"
    }
   ],
   "source": [
    "key,value = list(web_dic.items())[0]\n",
    "key"
   ]
  }
 ],
 "metadata": {
  "kernelspec": {
   "display_name": "crwoller",
   "language": "python",
   "name": "python3"
  },
  "language_info": {
   "codemirror_mode": {
    "name": "ipython",
    "version": 3
   },
   "file_extension": ".py",
   "mimetype": "text/x-python",
   "name": "python",
   "nbconvert_exporter": "python",
   "pygments_lexer": "ipython3",
   "version": "3.12.0"
  }
 },
 "nbformat": 4,
 "nbformat_minor": 2
}
