{
 "cells": [
  {
   "cell_type": "code",
   "execution_count": null,
   "metadata": {},
   "outputs": [],
   "source": [
    "from bs4 import BeautifulSoup\n",
    "\n",
    "def extract_korean_lines(html_content):\n",
    "    soup = BeautifulSoup(html_content, 'html.parser')\n",
    "    korean_lines = []\n",
    "\n",
    "    data = soup.get_text().split('\\n')\n",
    "\n",
    "    for idx, line in enumerate(data):\n",
    "        if any('\\uac00' <= char <= '\\ud7a3' for char in line):\n",
    "            korean_lines.append(data[idx])\n",
    "            korean_lines.append(data[idx+1])\n",
    "            korean_lines.append(data[idx+2])\n",
    "\n",
    "\n",
    "\n",
    "    return korean_lines\n",
    "\n",
    "if __name__ == \"__main__\":\n",
    "    with open('./NAVER Careers.html', 'r', encoding='utf-8') as file:\n",
    "        html_content = file.read()\n",
    "\n",
    "    korean_lines = extract_korean_lines(html_content)\n",
    "\n",
    "    for line in korean_lines:\n",
    "        print(line)"
   ]
  }
 ],
 "metadata": {
  "kernelspec": {
   "display_name": "crwoller",
   "language": "python",
   "name": "python3"
  },
  "language_info": {
   "name": "python",
   "version": "3.12.0"
  }
 },
 "nbformat": 4,
 "nbformat_minor": 2
}
