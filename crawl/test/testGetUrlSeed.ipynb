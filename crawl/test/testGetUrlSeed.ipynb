{
 "cells": [
  {
   "cell_type": "code",
   "execution_count": 3,
   "metadata": {},
   "outputs": [],
   "source": [
    "from selenium import webdriver\n",
    "from selenium.webdriver.common.by import By\n",
    "from selenium.webdriver.support.ui import WebDriverWait\n",
    "from selenium.webdriver.support import expected_conditions as EC"
   ]
  },
  {
   "cell_type": "code",
   "execution_count": 4,
   "metadata": {},
   "outputs": [],
   "source": [
    "def getUrlSeed():\n",
    "    options = webdriver.ChromeOptions()\n",
    "    with webdriver.Chrome(options) as driver:\n",
    "        wait = WebDriverWait(driver, timeout=2)\n",
    "        for i in range(1, 30):\n",
    "            driver.get(\n",
    "                f\"https://www.jobkorea.co.kr/recruit/joblist?menucode=cotype1&cotype=1,2,3#anchorGICnt_{i}\"\n",
    "            )\n",
    "            original_window = driver.current_window_handle\n",
    "            button_list = driver.find_elements(\n",
    "                By.XPATH,\n",
    "                \"//button[contains(@class, 'tplBtn tplBtn_1 tplBtnBlue devApplyEtc')]\",\n",
    "            )\n",
    "            for button in button_list:\n",
    "                button.click()\n",
    "                wait.until(EC.number_of_windows_to_be(2))\n",
    "                for window_handle in driver.window_handles:\n",
    "                    if window_handle != original_window:\n",
    "                        driver.switch_to.window(window_handle)\n",
    "                        break\n",
    "                wait.until(lambda d: d.current_url != \"about:blank\")\n",
    "                print(driver.current_url)\n",
    "                yield driver.current_url\n",
    "                driver.close()\n",
    "                driver.switch_to.window(original_window)"
   ]
  },
  {
   "cell_type": "code",
   "execution_count": 5,
   "metadata": {},
   "outputs": [
    {
     "name": "stdout",
     "output_type": "stream",
     "text": [
      "https://career.kia.com/main/main.kc?utm_source=jobkorea&utm_medium=button&utm_campaign=2025-march-Career-Opportunities\n"
     ]
    },
    {
     "ename": "TimeoutException",
     "evalue": "Message: \n",
     "output_type": "error",
     "traceback": [
      "\u001b[0;31m---------------------------------------------------------------------------\u001b[0m",
      "\u001b[0;31mTimeoutException\u001b[0m                          Traceback (most recent call last)",
      "Cell \u001b[0;32mIn[5], line 5\u001b[0m\n\u001b[1;32m      3\u001b[0m url_list \u001b[38;5;241m=\u001b[39m []\n\u001b[1;32m      4\u001b[0m url_index \u001b[38;5;241m=\u001b[39m \u001b[38;5;241m0\u001b[39m\n\u001b[0;32m----> 5\u001b[0m \u001b[38;5;28;43;01mfor\u001b[39;49;00m\u001b[43m \u001b[49m\u001b[43murl\u001b[49m\u001b[43m \u001b[49m\u001b[38;5;129;43;01min\u001b[39;49;00m\u001b[43m \u001b[49m\u001b[43mgetUrlSeed\u001b[49m\u001b[43m(\u001b[49m\u001b[43m)\u001b[49m\u001b[43m:\u001b[49m\n\u001b[1;32m      6\u001b[0m \u001b[43m    \u001b[49m\u001b[43murl_list\u001b[49m\u001b[38;5;241;43m.\u001b[39;49m\u001b[43mappend\u001b[49m\u001b[43m(\u001b[49m\u001b[43m{\u001b[49m\u001b[38;5;124;43m\"\u001b[39;49m\u001b[38;5;124;43mindex\u001b[39;49m\u001b[38;5;124;43m\"\u001b[39;49m\u001b[43m:\u001b[49m\u001b[43m \u001b[49m\u001b[43murl_index\u001b[49m\u001b[43m,\u001b[49m\u001b[43m \u001b[49m\u001b[38;5;124;43m\"\u001b[39;49m\u001b[38;5;124;43murl\u001b[39;49m\u001b[38;5;124;43m\"\u001b[39;49m\u001b[43m:\u001b[49m\u001b[43m \u001b[49m\u001b[43murl\u001b[49m\u001b[43m}\u001b[49m\u001b[43m)\u001b[49m\n\u001b[1;32m      7\u001b[0m \u001b[43m    \u001b[49m\u001b[43murl_index\u001b[49m\u001b[43m \u001b[49m\u001b[38;5;241;43m+\u001b[39;49m\u001b[38;5;241;43m=\u001b[39;49m\u001b[43m \u001b[49m\u001b[38;5;241;43m1\u001b[39;49m\n",
      "Cell \u001b[0;32mIn[4], line 16\u001b[0m, in \u001b[0;36mgetUrlSeed\u001b[0;34m()\u001b[0m\n\u001b[1;32m     14\u001b[0m \u001b[38;5;28;01mfor\u001b[39;00m button \u001b[38;5;129;01min\u001b[39;00m button_list:\n\u001b[1;32m     15\u001b[0m     button\u001b[38;5;241m.\u001b[39mclick()\n\u001b[0;32m---> 16\u001b[0m     \u001b[43mwait\u001b[49m\u001b[38;5;241;43m.\u001b[39;49m\u001b[43muntil\u001b[49m\u001b[43m(\u001b[49m\u001b[43mEC\u001b[49m\u001b[38;5;241;43m.\u001b[39;49m\u001b[43mnumber_of_windows_to_be\u001b[49m\u001b[43m(\u001b[49m\u001b[38;5;241;43m2\u001b[39;49m\u001b[43m)\u001b[49m\u001b[43m)\u001b[49m\n\u001b[1;32m     17\u001b[0m     \u001b[38;5;28;01mfor\u001b[39;00m window_handle \u001b[38;5;129;01min\u001b[39;00m driver\u001b[38;5;241m.\u001b[39mwindow_handles:\n\u001b[1;32m     18\u001b[0m         \u001b[38;5;28;01mif\u001b[39;00m window_handle \u001b[38;5;241m!=\u001b[39m original_window:\n",
      "File \u001b[0;32m~/anaconda3/envs/crwoller/lib/python3.12/site-packages/selenium/webdriver/support/wait.py:105\u001b[0m, in \u001b[0;36mWebDriverWait.until\u001b[0;34m(self, method, message)\u001b[0m\n\u001b[1;32m    103\u001b[0m         \u001b[38;5;28;01mbreak\u001b[39;00m\n\u001b[1;32m    104\u001b[0m     time\u001b[38;5;241m.\u001b[39msleep(\u001b[38;5;28mself\u001b[39m\u001b[38;5;241m.\u001b[39m_poll)\n\u001b[0;32m--> 105\u001b[0m \u001b[38;5;28;01mraise\u001b[39;00m TimeoutException(message, screen, stacktrace)\n",
      "\u001b[0;31mTimeoutException\u001b[0m: Message: \n"
     ]
    }
   ],
   "source": [
    "import json\n",
    "\n",
    "url_list = []\n",
    "url_index = 0\n",
    "for url in getUrlSeed():\n",
    "    url_list.append({\"index\": url_index, \"url\": url})\n",
    "    url_index += 1\n",
    "    # Save the URL list to a JSON file\n",
    "    with open(\"url_list.json\", \"w\", encoding=\"utf-8\") as file:\n",
    "        json.dump(url_list, file, ensure_ascii=False, indent=4)"
   ]
  },
  {
   "cell_type": "code",
   "execution_count": null,
   "metadata": {},
   "outputs": [],
   "source": []
  }
 ],
 "metadata": {
  "kernelspec": {
   "display_name": "crwoller",
   "language": "python",
   "name": "python3"
  },
  "language_info": {
   "codemirror_mode": {
    "name": "ipython",
    "version": 3
   },
   "file_extension": ".py",
   "mimetype": "text/x-python",
   "name": "python",
   "nbconvert_exporter": "python",
   "pygments_lexer": "ipython3",
   "version": "3.12.0"
  }
 },
 "nbformat": 4,
 "nbformat_minor": 2
}
